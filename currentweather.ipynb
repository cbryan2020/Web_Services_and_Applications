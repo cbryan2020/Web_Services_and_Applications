{
 "cells": [
  {
   "cell_type": "code",
   "execution_count": 2,
   "id": "c614eeba-fb83-4fc1-8dc3-9ef5e2053dfc",
   "metadata": {
    "tags": []
   },
   "outputs": [
    {
     "name": "stdout",
     "output_type": "stream",
     "text": [
      "Current Temperature: 10.8 Degree Celcius\n",
      "Wind Direction: 264 Degrees North\n"
     ]
    }
   ],
   "source": [
    "# Import the requests library to get information from web\n",
    "import requests\n",
    "\n",
    "# Set the URL for the script to scrap the information from; set long and lat to location\n",
    "url = f\"https://api.open-meteo.com/v1/forecast?latitude=53.82&longitude=-9.5&current_weather=true\"\n",
    "\n",
    "# Import the weather data\n",
    "weather = requests.get(url)\n",
    "\n",
    "# Convert the weather data to a JSON so you can call information to be printed \n",
    "data = weather.json()\n",
    "\n",
    "# create new data array of the weather information\n",
    "weather_data = data['current_weather']\n",
    "\n",
    "# give names for the temperature and wind direction so you can print it\n",
    "temperature = weather_data['temperature']\n",
    "wind_direction = weather_data['winddirection']\n",
    "\n",
    "# Print the current temperature and  wind direction to console\n",
    "print(f\"Current Temperature: {temperature} Degree Celcius\")\n",
    "print(f\"Wind Direction: {wind_direction} Degrees North\")"
   ]
  },
  {
   "cell_type": "code",
   "execution_count": null,
   "id": "3b4825f2-9216-4858-b4e3-851e0eaea87b",
   "metadata": {},
   "outputs": [],
   "source": []
  }
 ],
 "metadata": {
  "kernelspec": {
   "display_name": "Python 3 (ipykernel)",
   "language": "python",
   "name": "python3"
  },
  "language_info": {
   "codemirror_mode": {
    "name": "ipython",
    "version": 3
   },
   "file_extension": ".py",
   "mimetype": "text/x-python",
   "name": "python",
   "nbconvert_exporter": "python",
   "pygments_lexer": "ipython3",
   "version": "3.11.5"
  }
 },
 "nbformat": 4,
 "nbformat_minor": 5
}
